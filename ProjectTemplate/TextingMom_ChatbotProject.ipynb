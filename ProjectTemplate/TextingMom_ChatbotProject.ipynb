{
 "cells": [
  {
   "cell_type": "code",
   "execution_count": 10,
   "metadata": {},
   "outputs": [],
   "source": [
    "\"\"\"\n",
    "This chatbot is supposed to resemble a text conversation with your mom, and I have included some funny and witty\n",
    "responses that remind me of my own mother. I have made some classes to help distinguish when talking about a sibling,\n",
    "father, and in need of advice, because I wanted those to have their own specific responses. I have imported functions\n",
    "we had to construct in Assignment 3, and I utilized the structure of the chatbot code from the one given in Assignment\n",
    "3.\n",
    "\n",
    "\"\"\""
   ]
  },
  {
   "cell_type": "code",
   "execution_count": 2,
   "metadata": {},
   "outputs": [],
   "source": [
    "import string\n",
    "import nltk\n",
    "import random"
   ]
  },
  {
   "cell_type": "code",
   "execution_count": 3,
   "metadata": {},
   "outputs": [],
   "source": [
    "from my_module.functions import prepare_text\n",
    "from my_module.functions import is_question\n",
    "from my_module.functions import selector\n",
    "from my_module.functions import remove_punctuation\n",
    "from my_module.functions import end_chat\n",
    "from my_module.functions import list_to_string\n",
    "from my_module.functions import string_concatenator\n",
    "from my_module.functions import is_in_list\n",
    "from my_module.functions import find_in_list"
   ]
  },
  {
   "cell_type": "code",
   "execution_count": 4,
   "metadata": {},
   "outputs": [],
   "source": [
    "from my_module.classes import Sibling\n",
    "from my_module.classes import Father\n",
    "from my_module.classes import Advice"
   ]
  },
  {
   "cell_type": "code",
   "execution_count": 5,
   "metadata": {},
   "outputs": [],
   "source": [
    "BYE = ['I will talk to you later', 'Be safe', \\\n",
    "      'Call me after class', 'Adios mi amorcito']\n",
    "\n",
    "ADVICE_IN = ['help', 'stressed', 'depressed', 'nervous', 'advice', 'anxious', 'sad', 'feeling down']\n",
    "\n",
    "HOW_IN = ['How are you?', 'How was your day?']\n",
    "HOW_OUT = ['Im good, sweetie! Thanks for checking up on me', \\\n",
    "          'Everything is good so far today!', 'Better than yesterday, but still not great', \\\n",
    "          'Ugh Im a little frustrated but everything will pass!']\n",
    "\n",
    "QUESTION_OUT = [\"Oh honey, I don't know\", \"Let me ask Dad\", \"I'll just call you later\"]\n",
    "\n",
    "RANDOM = ['Oh okay', 'Call me when you can', 'What?', 'Sounds good', 'Watch your tone']\n",
    "\n",
    "GREETING_IN = ['morning', 'hey', 'whatsup', 'hi', 'hello', 'hola', 'yo']\n",
    "GREETING_OUT = ['Good morning, honey!', 'How are you?', \\\n",
    "                'yo yo yo', 'que pasa', \\\n",
    "                'I was just thinking about you', \\\n",
    "                'Dad and I were just talking about you']\n",
    "\n",
    "HUMOR_IN = ['joke', 'haha', 'funny', 'lmao', 'lol']\n",
    "HUMOR_OUT = ['you get your humor from me', \\\n",
    "            'dont be surprised. you know im the funny one', \\\n",
    "            'why was that funny?', 'what does that even mean']\n",
    "\n",
    "LOVEY_IN = ['love', 'miss']\n",
    "LOVEY_OUT = ['I love you more, sweetie', 'I miss you so much. Come home soon', \\\n",
    "            'Not as much as I love you']\n",
    "\n",
    "SIBLINGS = ['brother', 'sister', 'sibling']"
   ]
  },
  {
   "cell_type": "code",
   "execution_count": 6,
   "metadata": {},
   "outputs": [],
   "source": [
    "def text_mom():\n",
    "    \"\"\"Main function to run our chatbot.\"\"\"\n",
    "    \n",
    "    chat = True\n",
    "    while chat:\n",
    "\n",
    "        # Get a message from the user\n",
    "        msg = input('INPUT :\\t')\n",
    "        out_msg = None\n",
    "\n",
    "        # Check if the input is a question\n",
    "        question = is_question(msg)\n",
    "\n",
    "        # Prepare the input message\n",
    "        msg = prepare_text(msg)\n",
    "\n",
    "        # Check for an end msg \n",
    "        if end_chat(msg):\n",
    "            out_msg = random.choice(BYE)\n",
    "            chat = False\n",
    "\n",
    "        if not out_msg:\n",
    "\n",
    "            # Initialize to collect a list of possible outputs\n",
    "            outs = []\n",
    "            \n",
    "            # Check if the input mentions a sibling, and call on Sibling class to respond\n",
    "            if is_in_list(msg, SIBLINGS):\n",
    "                sibling = Sibling()\n",
    "                outs.append(random.choice(sibling.SIBLING_OUT))\n",
    "              \n",
    "            # Check if the input mentions dad, and call on Father class to respond\n",
    "            if 'dad' in msg:\n",
    "                dad = Father()\n",
    "                outs.append(random.choice(dad.DAD_OUT))\n",
    "                \n",
    "            # Check if input mentions needing advice or feeling sad, and call on Advice class to respond\n",
    "            if is_in_list(msg, ADVICE_IN):\n",
    "                advice = Advice()\n",
    "                outs.append(random.choice(advice.ADVICE_OUT))\n",
    "                \n",
    "            # Check if input is a direct \"How are you\" or \"How is your day\" for a more direct repsonse\n",
    "            if 'how' in msg and is_in_list(msg, HOW_IN):\n",
    "                outs.append(random.choice(HOW_OUT))\n",
    "                \n",
    "            # Check if the input looks like a greeting, add a greeting output if so\n",
    "            outs.append(selector(msg, GREETING_IN, GREETING_OUT))\n",
    "\n",
    "            # Check if the input looks like a joke, add a joking output if so\n",
    "            outs.append(selector(msg, HUMOR_IN, HUMOR_OUT))\n",
    "            \n",
    "            # Check if the input has a loving message, and add a loving output if so\n",
    "            if is_in_list(msg, LOVEY_IN):\n",
    "                name = find_in_list(msg, LOVEY_IN)\n",
    "                outs.append(selector(msg, LOVEY_IN, LOVEY_OUT))\n",
    "                \n",
    "            # randomly select an output from the set of outputs that are not None\n",
    "            options = list(filter(None, outs))\n",
    "            if options:\n",
    "                out_msg = random.choice(options)\n",
    "                \n",
    "          # If we don't have an output set up, but the input was a question, return question ouput\n",
    "        if not out_msg and is_question(msg):\n",
    "            out_msg = random.choice(QUESTION_OUT)\n",
    "\n",
    "        # If random input that doesn't fall into my categories, random output\n",
    "        if not out_msg:\n",
    "            out_msg = random.choice(RANDOM)\n",
    "\n",
    "        print('OUTPUT:', out_msg)"
   ]
  },
  {
   "cell_type": "code",
   "execution_count": 7,
   "metadata": {},
   "outputs": [
    {
     "name": "stdout",
     "output_type": "stream",
     "text": [
      "INPUT :\they\n",
      "OUTPUT: I was just thinking about you\n",
      "INPUT :\thow are you\n",
      "OUTPUT: Sounds good\n",
      "INPUT :\trejg\n",
      "OUTPUT: Watch your tone\n",
      "INPUT :\tHow are you?\n",
      "OUTPUT: Sounds good\n",
      "INPUT :\tBYE\n",
      "OUTPUT: Be safe\n"
     ]
    }
   ],
   "source": [
    "text_mom()"
   ]
  },
  {
   "cell_type": "code",
   "execution_count": null,
   "metadata": {},
   "outputs": [],
   "source": []
  }
 ],
 "metadata": {
  "kernelspec": {
   "display_name": "Python 3",
   "language": "python",
   "name": "python3"
  },
  "language_info": {
   "codemirror_mode": {
    "name": "ipython",
    "version": 3
   },
   "file_extension": ".py",
   "mimetype": "text/x-python",
   "name": "python",
   "nbconvert_exporter": "python",
   "pygments_lexer": "ipython3",
   "version": "3.6.5"
  }
 },
 "nbformat": 4,
 "nbformat_minor": 2
}
